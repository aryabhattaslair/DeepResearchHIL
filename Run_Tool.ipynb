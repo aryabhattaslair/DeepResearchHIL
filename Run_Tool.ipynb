{
 "cells": [
  {
   "cell_type": "code",
   "execution_count": 2,
   "id": "2e3b2ab8-ebe0-4e60-814c-4f83cdaa7c41",
   "metadata": {},
   "outputs": [],
   "source": [
    "import getpass\n",
    "import os\n",
    "import asyncio\n",
    "from langchain_google_genai import ChatGoogleGenerativeAI\n",
    "from pydantic import BaseModel, Field"
   ]
  },
  {
   "cell_type": "code",
   "execution_count": 17,
   "id": "c1521109-26ca-4b0c-aec4-ee7bc7287765",
   "metadata": {},
   "outputs": [],
   "source": [
    "from langchain_core.tools import tool\n",
    "\n",
    "@tool\n",
    "def divide(a: int, b: int) -> int:\n",
    "   \"\"\"Multiply two numbers.\"\"\"\n",
    "   return a / b"
   ]
  },
  {
   "cell_type": "code",
   "execution_count": 25,
   "id": "03fb51a7-6086-4366-a7c0-25a871db6ba2",
   "metadata": {},
   "outputs": [],
   "source": [
    "@tool\n",
    "def is_within_range(a: int) -> int:\n",
    "    \"\"\"Check if numbers .\"\"\"\n",
    "    if a > 5 and a < 10:\n",
    "        return \"Number is within range\"\n",
    "    else:\n",
    "        return \"Number is not within range\""
   ]
  },
  {
   "cell_type": "code",
   "execution_count": null,
   "id": "4cae8cbf-59dd-4d15-aa82-ca3cfdf9a817",
   "metadata": {},
   "outputs": [],
   "source": [
    "os.environ[\"GOOGLE_API_KEY\"] = \"Google API Key\""
   ]
  },
  {
   "cell_type": "code",
   "execution_count": 13,
   "id": "b369fbcf-9f0f-47ac-adb3-65f4bfba6fea",
   "metadata": {},
   "outputs": [],
   "source": [
    "llm = ChatGoogleGenerativeAI(model=\"gemini-2.0-flash\", temperature=0)\n",
    "#structured_llm = llm.with_structured_output(Person)"
   ]
  },
  {
   "cell_type": "code",
   "execution_count": 26,
   "id": "c0e7f32e-ef5a-499d-a32b-334af68a985c",
   "metadata": {},
   "outputs": [],
   "source": [
    "model_with_tools = llm.bind_tools([divide, is_within_range])"
   ]
  },
  {
   "cell_type": "code",
   "execution_count": 27,
   "id": "5c97d8fc-7276-44bd-99fe-49392389a5d1",
   "metadata": {},
   "outputs": [],
   "source": [
    "result = model_with_tools.invoke(\"Is number 8 within range\")"
   ]
  },
  {
   "cell_type": "code",
   "execution_count": 30,
   "id": "bde1de4d-53dc-4c42-823a-cbd56c4a7003",
   "metadata": {},
   "outputs": [
    {
     "data": {
      "text/plain": [
       "AIMessage(content='', additional_kwargs={'function_call': {'name': 'divide', 'arguments': '{\"b\": 2.0, \"a\": 8.0}'}}, response_metadata={'prompt_feedback': {'block_reason': 0, 'safety_ratings': []}, 'finish_reason': 'STOP', 'model_name': 'gemini-2.0-flash', 'safety_ratings': []}, id='run--97dd35ac-ac86-4c87-a8d8-690a88d46978-0', tool_calls=[{'name': 'divide', 'args': {'b': 2.0, 'a': 8.0}, 'id': 'a263f162-61bf-433c-b900-19bcfb4af373', 'type': 'tool_call'}], usage_metadata={'input_tokens': 34, 'output_tokens': 5, 'total_tokens': 39, 'input_token_details': {'cache_read': 0}})"
      ]
     },
     "execution_count": 30,
     "metadata": {},
     "output_type": "execute_result"
    }
   ],
   "source": [
    "result"
   ]
  },
  {
   "cell_type": "code",
   "execution_count": 32,
   "id": "f7ad12b5-5215-4e88-a705-6d65e6698e1a",
   "metadata": {},
   "outputs": [
    {
     "data": {
      "text/plain": [
       "ToolMessage(content='Number is within range', name='is_within_range', tool_call_id='a263f162-61bf-433c-b900-19bcfb4af373')"
      ]
     },
     "execution_count": 32,
     "metadata": {},
     "output_type": "execute_result"
    }
   ],
   "source": [
    "is_within_range.invoke(result.tool_calls[0])"
   ]
  },
  {
   "cell_type": "code",
   "execution_count": 33,
   "id": "21bda253-eeec-4922-9a07-46efe58cb8a8",
   "metadata": {},
   "outputs": [],
   "source": [
    "@tool\n",
    "def is_within_range(a: int) -> int:\n",
    "    \"\"\"Check if numbers.\"\"\"\n",
    "    if a >= 5 and a < 10:\n",
    "        return \"Value is within range\"\n",
    "    elif a >= 0 and a < 5:\n",
    "        return \"Value is more than 0 but is less\"\n",
    "    elif a >= 10:\n",
    "        return \"Value is higher than the range\"\n",
    "    elif a < 0:\n",
    "        return \"Value is negative\""
   ]
  },
  {
   "cell_type": "code",
   "execution_count": 34,
   "id": "678071fa-eedc-4d94-9fdf-097062b88028",
   "metadata": {},
   "outputs": [],
   "source": [
    "model_with_tools = llm.bind_tools([divide, is_within_range])"
   ]
  },
  {
   "cell_type": "code",
   "execution_count": 35,
   "id": "af0ef60e-d3f1-44f0-b6f3-cf4f1794cf2e",
   "metadata": {},
   "outputs": [],
   "source": [
    "result = model_with_tools.invoke(\"Is number 10 within range\")"
   ]
  },
  {
   "cell_type": "code",
   "execution_count": 36,
   "id": "03e4977d-e3ff-4963-93e8-c3bb57baff04",
   "metadata": {},
   "outputs": [
    {
     "data": {
      "text/plain": [
       "ToolMessage(content='Value is higher than the range', name='is_within_range', tool_call_id='72281021-1cf1-4e3b-a75e-958d04324230')"
      ]
     },
     "execution_count": 36,
     "metadata": {},
     "output_type": "execute_result"
    }
   ],
   "source": [
    "is_within_range.invoke(result.tool_calls[0])"
   ]
  },
  {
   "cell_type": "code",
   "execution_count": null,
   "id": "1496ad6c-5d2e-484e-b01a-6bef0137a64a",
   "metadata": {},
   "outputs": [],
   "source": []
  }
 ],
 "metadata": {
  "kernelspec": {
   "display_name": "Python 3 (ipykernel)",
   "language": "python",
   "name": "python3"
  },
  "language_info": {
   "codemirror_mode": {
    "name": "ipython",
    "version": 3
   },
   "file_extension": ".py",
   "mimetype": "text/x-python",
   "name": "python",
   "nbconvert_exporter": "python",
   "pygments_lexer": "ipython3",
   "version": "3.12.8"
  }
 },
 "nbformat": 4,
 "nbformat_minor": 5
}
